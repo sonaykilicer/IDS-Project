{
  "cells": [
    {
      "cell_type": "code",
      "execution_count": null,
      "metadata": {
        "id": "f08AMzTSpZO6"
      },
      "outputs": [],
      "source": [
        "\n",
        "import numpy as np\n",
        "import matplotlib.pyplot as plt\n",
        "import pandas as pd\n",
        "from sklearn.model_selection import train_test_split\n",
        "from sklearn.preprocessing import StandardScaler\n",
        "from sklearn.neighbors import KNeighborsClassifier\n",
        "from sklearn.metrics import classification_report, confusion_matrix\n",
        "\n",
        "from sklearn.tree import DecisionTreeClassifier\n",
        "\n",
        "from sklearn.datasets import fetch_kddcup99 #data setlerinin %10unun alındığı kütüphane \n",
        "\n",
        "#csv to dataframe conversion \n",
        "#df = pd.read_csv(\"kddcup10percentcorrected.csv\",header=None)\n",
        "dataset_part = fetch_kddcup99(percent10=True)  \n",
        "df = pd.DataFrame(dataset_part.data)\n",
        "\n",
        "\n",
        "df.describe() #datanın istatistiğini verir\n",
        "\n",
        "#df.head()"
      ]
    },
    {
      "cell_type": "code",
      "execution_count": 2,
      "metadata": {
        "id": "PSqEARWIpePJ"
      },
      "outputs": [],
      "source": [
        "#df.dropna(inplace=True, axis=1)\n",
        "from array import array\n",
        "\n",
        "from sklearn import preprocessing\n",
        "\n",
        "df = df.apply(pd.to_numeric, errors='ignore')\n",
        "\n",
        "\n",
        "df.head(1) #her kolon için label encoder methodu ile string ise numeric değere çevirir .\n",
        "for column in df.columns:\n",
        "    if df[column].dtype == object:\n",
        "        le = preprocessing.LabelEncoder()\n",
        "        df[column] = le.fit_transform(df[column])"
      ]
    },
    {
      "cell_type": "code",
      "execution_count": null,
      "metadata": {
        "id": "WgXyri6spkAw"
      },
      "outputs": [],
      "source": [
        "df.head(3)"
      ]
    },
    {
      "cell_type": "code",
      "execution_count": 9,
      "metadata": {
        "id": "UnwKn3EQpobw"
      },
      "outputs": [],
      "source": [
        "from sklearn import metrics\n",
        "from sklearn.metrics import confusion_matrix\n",
        "X = df.values\n",
        "\n",
        "\n",
        "le = preprocessing.LabelEncoder()\n",
        "y = le.fit_transform(dataset_part.target)\n",
        "y_dict = dict(zip(y,le.classes_))  \n",
        "\n",
        "\n",
        "# datanın train ve test için x ve y'yi ayır.\n",
        "test_size=0.33\n",
        "SEED = 42\n",
        "X_train, X_test, y_train, y_test = train_test_split(X, y, test_size=0.3, random_state=1) #datanın %30 kısmı test için %70 kısmı ağacı oluşturmak için kullan %30unu ağaçta nereye düştüğünü dener.\n",
        "#x datanın feature y labelları\n"
      ]
    },
    {
      "cell_type": "code",
      "execution_count": null,
      "metadata": {
        "id": "j5EMMe_Eps1h"
      },
      "outputs": [],
      "source": [
        "# Karar ağacı nesnesi\n",
        "clf = DecisionTreeClassifier()\n",
        "\n",
        "\n",
        "# %70lik kısımdan fit ile ağacı oluşturur.\n",
        "clf = clf.fit(X_train,y_train)\n",
        "\n",
        "\n",
        "# %30u test et.\n",
        "y_pred = clf.predict(X_test)\n",
        "\n",
        "#gerçek değerle benim bulduklarımı karşılaştırır.\n",
        "print(\"Accuracy:\",metrics.accuracy_score(y_test, y_pred)) \n",
        "\n",
        "confusion_matrix(y_test, y_pred)\n",
        "\n",
        "import matplotlib.pyplot as plt #confusion matris ile çizdir.\n",
        "from sklearn.metrics import plot_confusion_matrix\n",
        "plot_confusion_matrix(clf, X_test, y_test)  \n",
        "plt.show()"
      ]
    },
    {
      "cell_type": "code",
      "execution_count": null,
      "metadata": {
        "id": "58K2geJzqAQ0"
      },
      "outputs": [],
      "source": [
        "#Random forest metodu\n",
        "from sklearn.ensemble import RandomForestClassifier\n",
        "\n",
        "#100 tane ağaç oluşturur. sınıflandırıp karar verir.\n",
        "clf=RandomForestClassifier(n_estimators=100)\n",
        "\n",
        "#Modelin eğitilmesi\n",
        "clf.fit(X_train,y_train)\n",
        "\n",
        "y_pred=clf.predict(X_test) #ormanın %30una labelı ne sorar.\n",
        "\n",
        "print(\"Accuracy:\",metrics.accuracy_score(y_test, y_pred))\n",
        "\n",
        "confusion_matrix(y_test, y_pred)\n",
        "\n",
        "###"
      ]
    },
    {
      "cell_type": "code",
      "execution_count": null,
      "metadata": {
        "id": "ujMV4BZJqDxw"
      },
      "outputs": [],
      "source": [
        "import matplotlib.pyplot as plt\n",
        "from sklearn.metrics import plot_confusion_matrix\n",
        "plot_confusion_matrix(clf, X_test, y_test)  \n",
        "plt.show()"
      ]
    },
    {
      "cell_type": "code",
      "execution_count": null,
      "metadata": {
        "id": "H5PDI4UZqGcO"
      },
      "outputs": [],
      "source": [
        "#K-NN\n",
        "\n",
        "from sklearn.neighbors import KNeighborsClassifier\n",
        "\n",
        "#KNN Classifier\n",
        "knn = KNeighborsClassifier(n_neighbors=3) \n",
        "\n",
        "#Train the model using the training sets\n",
        "knn.fit(X_train, y_train) \n",
        "\n",
        "#Predict the response for test dataset\n",
        "y_pred = knn.predict(X_test) \n",
        "\n",
        "print(\"Accuracy:\",metrics.accuracy_score(y_test, y_pred))\n",
        "\n",
        "confusion_matrix(y_test, y_pred)\n",
        "\n",
        "#Import knearest neighbors Classifier model\n",
        "from sklearn.neighbors import KNeighborsClassifier\n",
        "\n",
        "#Create KNN Classifier\n",
        "knn = KNeighborsClassifier(n_neighbors=5)\n",
        "\n",
        "#Train the model using the training sets\n",
        "knn.fit(X_train, y_train)\n",
        "\n",
        "#Predict the response for test dataset\n",
        "y_pred = knn.predict(X_test)\n",
        "\n",
        "print(\"Accuracy:\",metrics.accuracy_score(y_test, y_pred))\n",
        "\n",
        "confusion_matrix(y_test, y_pred)"
      ]
    },
    {
      "cell_type": "code",
      "execution_count": null,
      "metadata": {
        "id": "-DAeIe1jqWfb"
      },
      "outputs": [],
      "source": [
        "#SVM\n",
        "\n",
        "#Import svm model\n",
        "from sklearn import svm\n",
        "\n",
        "#Create a svm Classifier\n",
        "clf = svm.SVC(kernel='linear') # Linear Kernel\n",
        "\n",
        "#Train the model using the training sets\n",
        "clf.fit(X_train, y_train) \n",
        "\n",
        "#Predict the response for test dataset\n",
        "y_pred = clf.predict(X_test) \n",
        "\n",
        "#Import scikit-learn metrics module for accuracy calculation\n",
        "from sklearn import metrics\n",
        "\n",
        "# Model Accuracy: how often is the classifier correct?\n",
        "print(\"Accuracy:\",metrics.accuracy_score(y_test, y_pred))"
      ]
    }
  ],
  "metadata": {
    "colab": {
      "collapsed_sections": [],
      "name": "18120205015.ipynb",
      "provenance": []
    },
    "kernelspec": {
      "display_name": "Python 3",
      "name": "python3"
    },
    "language_info": {
      "name": "python"
    }
  },
  "nbformat": 4,
  "nbformat_minor": 0
}
